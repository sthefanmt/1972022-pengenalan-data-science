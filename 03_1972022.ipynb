{
 "cells": [
  {
   "cell_type": "markdown",
   "id": "a2081261-92c5-433f-af28-465d23cfc49f",
   "metadata": {},
   "source": [
    "# Machine Learning Workflow"
   ]
  },
  {
   "cell_type": "markdown",
   "id": "366e959c-f39f-4006-8454-177f38f68911",
   "metadata": {},
   "source": [
    "## Persiapan Dataset"
   ]
  },
  {
   "cell_type": "markdown",
   "id": "74d8376d-a343-4e6c-b7b8-0c1780218d24",
   "metadata": {},
   "source": [
    "**Melakukan load dataset Iris.**"
   ]
  },
  {
   "cell_type": "code",
   "execution_count": 4,
   "id": "2a8b8202-0691-4f91-9fa5-c6e7ae20571a",
   "metadata": {},
   "outputs": [],
   "source": [
    "from sklearn.datasets import load_iris\n",
    "\n",
    "iris = load_iris()\n",
    "\n",
    "X = iris.data\n",
    "y = iris.target"
   ]
  },
  {
   "cell_type": "markdown",
   "id": "add0c4c3-0b42-403a-93d2-60074b873871",
   "metadata": {},
   "source": [
    "**Splitting Dataset**"
   ]
  },
  {
   "cell_type": "markdown",
   "id": "cb6ab705-74da-4dfb-8288-b14253e182e5",
   "metadata": {},
   "source": [
    "Splitting dataset yaitu membagi dataset menjadi dua bagian yaitu Training Set dan Testing Set."
   ]
  },
  {
   "cell_type": "code",
   "execution_count": 8,
   "id": "4028181b-9f43-4498-8c70-468a6e2f80f0",
   "metadata": {},
   "outputs": [],
   "source": [
    "from sklearn.model_selection import train_test_split\n",
    "\n",
    "X_train, X_test, y_train, y_test = train_test_split(X,\n",
    "                                                    y,\n",
    "                                                    test_size=0.4,\n",
    "                                                    random_state=1)"
   ]
  },
  {
   "cell_type": "markdown",
   "id": "402dc047-cfaf-4ef8-85f6-3814d24629de",
   "metadata": {},
   "source": [
    "4 Parameter yang terdapat pada function train_test_split terdiri dari:<br>\n",
    "* X = Sekumpulan nilai features.\n",
    "* Sekumpulan nilai target\n",
    "* Ukuran dari testing set yaitu 0.4, artinya proporsi dari testing yaitu 40% dari total keseluruhan dataset dan training set nya memiliki bobot 60%.\n",
    "* Untuk proses pengacakan menggunakan random_state."
   ]
  },
  {
   "cell_type": "markdown",
   "id": "c77aa1c5-907e-42d8-ae75-95d99245f4e3",
   "metadata": {},
   "source": [
    "Function train_test_split akan menghasilkan 4 kumpulan nilai yang ditampung ke dalam 4 variabel yaitu X_train, X_test, y_train, dan y_test."
   ]
  },
  {
   "cell_type": "markdown",
   "id": "7e2479f2-4fa1-414c-9b68-7d8e4a6dc283",
   "metadata": {},
   "source": [
    "## Training Model"
   ]
  },
  {
   "cell_type": "markdown",
   "id": "0e2f5d03-1f7f-485d-86e0-7f3595669545",
   "metadata": {},
   "source": [
    "Setelah dataset dibagi menjadi dua bagian yaitu training set dan test set, langkah berikutnya yaitu **menentukan model machine learning yang akan digunakan**.\n",
    "\n",
    "* Pada Scikit Learn, model machine learning dibentuk dari class yang dikenal dengan istilah **estimator**.\n",
    "\n",
    "* Setiap estimator akan mengimplementasikan dua method utama yaitu `fit()` dan `predict()`.\n",
    "\n",
    "* Method `fit()` digunakan untuk melakukan training model.\n",
    "\n",
    "* Method `predict()` digunakan untuk melakukan estimasi atau prediksi dengan memanfaatkan trained model."
   ]
  },
  {
   "cell_type": "markdown",
   "id": "c993f2ee-f048-4726-b10b-ca3c5931c14c",
   "metadata": {},
   "source": [
    "Pada contoh dibawah, akan menggunakan KNN atau K Nearest Neighbors Classifer sebagai machine learning model."
   ]
  },
  {
   "cell_type": "code",
   "execution_count": 10,
   "id": "82545667-192a-4428-8e37-3f132da324a9",
   "metadata": {},
   "outputs": [
    {
     "data": {
      "text/html": [
       "<style>#sk-container-id-2 {color: black;}#sk-container-id-2 pre{padding: 0;}#sk-container-id-2 div.sk-toggleable {background-color: white;}#sk-container-id-2 label.sk-toggleable__label {cursor: pointer;display: block;width: 100%;margin-bottom: 0;padding: 0.3em;box-sizing: border-box;text-align: center;}#sk-container-id-2 label.sk-toggleable__label-arrow:before {content: \"▸\";float: left;margin-right: 0.25em;color: #696969;}#sk-container-id-2 label.sk-toggleable__label-arrow:hover:before {color: black;}#sk-container-id-2 div.sk-estimator:hover label.sk-toggleable__label-arrow:before {color: black;}#sk-container-id-2 div.sk-toggleable__content {max-height: 0;max-width: 0;overflow: hidden;text-align: left;background-color: #f0f8ff;}#sk-container-id-2 div.sk-toggleable__content pre {margin: 0.2em;color: black;border-radius: 0.25em;background-color: #f0f8ff;}#sk-container-id-2 input.sk-toggleable__control:checked~div.sk-toggleable__content {max-height: 200px;max-width: 100%;overflow: auto;}#sk-container-id-2 input.sk-toggleable__control:checked~label.sk-toggleable__label-arrow:before {content: \"▾\";}#sk-container-id-2 div.sk-estimator input.sk-toggleable__control:checked~label.sk-toggleable__label {background-color: #d4ebff;}#sk-container-id-2 div.sk-label input.sk-toggleable__control:checked~label.sk-toggleable__label {background-color: #d4ebff;}#sk-container-id-2 input.sk-hidden--visually {border: 0;clip: rect(1px 1px 1px 1px);clip: rect(1px, 1px, 1px, 1px);height: 1px;margin: -1px;overflow: hidden;padding: 0;position: absolute;width: 1px;}#sk-container-id-2 div.sk-estimator {font-family: monospace;background-color: #f0f8ff;border: 1px dotted black;border-radius: 0.25em;box-sizing: border-box;margin-bottom: 0.5em;}#sk-container-id-2 div.sk-estimator:hover {background-color: #d4ebff;}#sk-container-id-2 div.sk-parallel-item::after {content: \"\";width: 100%;border-bottom: 1px solid gray;flex-grow: 1;}#sk-container-id-2 div.sk-label:hover label.sk-toggleable__label {background-color: #d4ebff;}#sk-container-id-2 div.sk-serial::before {content: \"\";position: absolute;border-left: 1px solid gray;box-sizing: border-box;top: 0;bottom: 0;left: 50%;z-index: 0;}#sk-container-id-2 div.sk-serial {display: flex;flex-direction: column;align-items: center;background-color: white;padding-right: 0.2em;padding-left: 0.2em;position: relative;}#sk-container-id-2 div.sk-item {position: relative;z-index: 1;}#sk-container-id-2 div.sk-parallel {display: flex;align-items: stretch;justify-content: center;background-color: white;position: relative;}#sk-container-id-2 div.sk-item::before, #sk-container-id-2 div.sk-parallel-item::before {content: \"\";position: absolute;border-left: 1px solid gray;box-sizing: border-box;top: 0;bottom: 0;left: 50%;z-index: -1;}#sk-container-id-2 div.sk-parallel-item {display: flex;flex-direction: column;z-index: 1;position: relative;background-color: white;}#sk-container-id-2 div.sk-parallel-item:first-child::after {align-self: flex-end;width: 50%;}#sk-container-id-2 div.sk-parallel-item:last-child::after {align-self: flex-start;width: 50%;}#sk-container-id-2 div.sk-parallel-item:only-child::after {width: 0;}#sk-container-id-2 div.sk-dashed-wrapped {border: 1px dashed gray;margin: 0 0.4em 0.5em 0.4em;box-sizing: border-box;padding-bottom: 0.4em;background-color: white;}#sk-container-id-2 div.sk-label label {font-family: monospace;font-weight: bold;display: inline-block;line-height: 1.2em;}#sk-container-id-2 div.sk-label-container {text-align: center;}#sk-container-id-2 div.sk-container {/* jupyter's `normalize.less` sets `[hidden] { display: none; }` but bootstrap.min.css set `[hidden] { display: none !important; }` so we also need the `!important` here to be able to override the default hidden behavior on the sphinx rendered scikit-learn.org. See: https://github.com/scikit-learn/scikit-learn/issues/21755 */display: inline-block !important;position: relative;}#sk-container-id-2 div.sk-text-repr-fallback {display: none;}</style><div id=\"sk-container-id-2\" class=\"sk-top-container\"><div class=\"sk-text-repr-fallback\"><pre>KNeighborsClassifier(n_neighbors=3)</pre><b>In a Jupyter environment, please rerun this cell to show the HTML representation or trust the notebook. <br />On GitHub, the HTML representation is unable to render, please try loading this page with nbviewer.org.</b></div><div class=\"sk-container\" hidden><div class=\"sk-item\"><div class=\"sk-estimator sk-toggleable\"><input class=\"sk-toggleable__control sk-hidden--visually\" id=\"sk-estimator-id-2\" type=\"checkbox\" checked><label for=\"sk-estimator-id-2\" class=\"sk-toggleable__label sk-toggleable__label-arrow\">KNeighborsClassifier</label><div class=\"sk-toggleable__content\"><pre>KNeighborsClassifier(n_neighbors=3)</pre></div></div></div></div></div>"
      ],
      "text/plain": [
       "KNeighborsClassifier(n_neighbors=3)"
      ]
     },
     "execution_count": 10,
     "metadata": {},
     "output_type": "execute_result"
    }
   ],
   "source": [
    "from sklearn.neighbors import KNeighborsClassifier\n",
    "\n",
    "model = KNeighborsClassifier(n_neighbors=3)\n",
    "model.fit(X_train, y_train)"
   ]
  },
  {
   "cell_type": "markdown",
   "id": "07734b60-0df7-4923-ae39-7bd8fb67d120",
   "metadata": {},
   "source": [
    "## Evaluasi Model"
   ]
  },
  {
   "cell_type": "markdown",
   "id": "13fa5422-c1b3-4f58-af43-fdfbbe87339e",
   "metadata": {},
   "source": [
    "Pada evaluasi model dibawah, akan menggunakan accuracy sebagai metrics nya. Ada beberapa pilihan metrics, tetapi pada contoh ini akan menggunakan accuracy."
   ]
  },
  {
   "cell_type": "code",
   "execution_count": 13,
   "id": "b98e8c36-f35c-4e17-9ee7-5ad2630d2558",
   "metadata": {},
   "outputs": [
    {
     "name": "stdout",
     "output_type": "stream",
     "text": [
      "Accuracy: 0.9833333333333333\n"
     ]
    }
   ],
   "source": [
    "from sklearn.metrics import accuracy_score\n",
    "\n",
    "y_pred = model.predict(X_test)\n",
    "acc = accuracy_score(y_test, y_pred)\n",
    "print(f'Accuracy: {acc}')"
   ]
  },
  {
   "cell_type": "markdown",
   "id": "1aa64035-adae-4142-acee-e15daec290f3",
   "metadata": {},
   "source": [
    "## Pemanfaatan Trained Model"
   ]
  },
  {
   "cell_type": "markdown",
   "id": "7dcaa77e-ac79-44c9-8261-be6c1245a7fe",
   "metadata": {},
   "source": [
    "Setelah trained model dinilai cukup baik berdasarkan hasil evaluasi, maka model yang telah di training dapat digunakan untuk memprediksi data baru. <br>\n",
    "\n",
    "Pada data baru dibawah, terdapat sekumpulan nilai features tetapi **tidak** memiliki nilai target. <br>\n",
    "\n",
    "Dengan trained model diatas, dapat dimanfaatkan untuk memprediksi nilai target dari kumpulan nilai features yang ada."
   ]
  },
  {
   "cell_type": "code",
   "execution_count": 14,
   "id": "a77a6090-7ce0-4127-89c7-3eeb0b44d90d",
   "metadata": {},
   "outputs": [
    {
     "data": {
      "text/plain": [
       "array([1, 2])"
      ]
     },
     "execution_count": 14,
     "metadata": {},
     "output_type": "execute_result"
    }
   ],
   "source": [
    "data_baru = [[5, 5, 3, 2],\n",
    "             [2, 4, 3, 5]]\n",
    "\n",
    "preds = model.predict(data_baru)\n",
    "preds"
   ]
  },
  {
   "cell_type": "code",
   "execution_count": 15,
   "id": "b223299c-5bb9-4979-9023-066e96ecc182",
   "metadata": {},
   "outputs": [
    {
     "name": "stdout",
     "output_type": "stream",
     "text": [
      "Hasil prediksi: ['versicolor', 'virginica']\n"
     ]
    }
   ],
   "source": [
    "pred_species = [iris.target_names[p] for p in preds]\n",
    "print(f'Hasil prediksi: {pred_species}')"
   ]
  },
  {
   "cell_type": "markdown",
   "id": "f52c02a7-6d89-4c35-b875-40e518e4795c",
   "metadata": {},
   "source": [
    "## Dump & Load Trained Model"
   ]
  },
  {
   "cell_type": "markdown",
   "id": "a757b1cb-e539-464b-a409-4a38a3383313",
   "metadata": {},
   "source": [
    "Trained model yang sudah siap, pada akhirnya akan di deploy dalam production. Maka, trained model harus di ekspor atau dump sebagai file model. Module yang akan digunakan dibawah adalah `joblib`."
   ]
  },
  {
   "cell_type": "markdown",
   "id": "71695c3e-c821-4129-a5c9-e8f36f574b2f",
   "metadata": {},
   "source": [
    "### Dumping Model Machine Learning menjadi file `joblib`"
   ]
  },
  {
   "cell_type": "code",
   "execution_count": 16,
   "id": "5e3dfd4f-f821-4bee-b594-fcd1ea0c2264",
   "metadata": {},
   "outputs": [
    {
     "data": {
      "text/plain": [
       "['iris_classifier_knn.joblib']"
      ]
     },
     "execution_count": 16,
     "metadata": {},
     "output_type": "execute_result"
    }
   ],
   "source": [
    "import joblib\n",
    "\n",
    "joblib.dump(model, 'iris_classifier_knn.joblib')"
   ]
  },
  {
   "cell_type": "markdown",
   "id": "95908622-80d9-4a19-9dcc-5c326a2f52f2",
   "metadata": {},
   "source": [
    "### Loading Model Machine Learning dari file `joblib`"
   ]
  },
  {
   "cell_type": "code",
   "execution_count": 17,
   "id": "1ad0a948-af85-4c76-bf19-76e25a26b0c7",
   "metadata": {},
   "outputs": [],
   "source": [
    "production_model = joblib.load('iris_classifier_knn.joblib')"
   ]
  },
  {
   "cell_type": "markdown",
   "id": "caa7596f-20e5-49bb-b13d-7d737c9f5b91",
   "metadata": {},
   "source": [
    "# Data Preprocessing"
   ]
  },
  {
   "cell_type": "markdown",
   "id": "b20a48a4-c77e-4c1a-af2b-7c61b54a4e22",
   "metadata": {},
   "source": [
    "## Sample Data"
   ]
  },
  {
   "cell_type": "code",
   "execution_count": 21,
   "id": "9bac6102-b2b9-49ff-8dea-3ba75e5de8dc",
   "metadata": {},
   "outputs": [
    {
     "data": {
      "text/plain": [
       "array([[ 2.1, -1.9,  5.5],\n",
       "       [-1.5,  2.4,  3.5],\n",
       "       [ 0.5, -7.9,  5.6],\n",
       "       [ 5.9,  2.3, -5.8]])"
      ]
     },
     "execution_count": 21,
     "metadata": {},
     "output_type": "execute_result"
    }
   ],
   "source": [
    "import numpy as np\n",
    "from sklearn import preprocessing\n",
    "\n",
    "sample_data = np.array([[2.1, -1.9, 5.5],\n",
    "                        [-1.5, 2.4, 3.5],\n",
    "                        [0.5, -7.9, 5.6],\n",
    "                        [5.9, 2.3, -5.8]])\n",
    "\n",
    "sample_data"
   ]
  },
  {
   "cell_type": "code",
   "execution_count": 22,
   "id": "aa02f219-88fa-4ba9-92e6-7a425b8fc9b2",
   "metadata": {},
   "outputs": [
    {
     "data": {
      "text/plain": [
       "(4, 3)"
      ]
     },
     "execution_count": 22,
     "metadata": {},
     "output_type": "execute_result"
    }
   ],
   "source": [
    "sample_data.shape"
   ]
  },
  {
   "cell_type": "markdown",
   "id": "60409236-c974-443d-827f-e260b6ed62d8",
   "metadata": {},
   "source": [
    "## Binarisation"
   ]
  },
  {
   "cell_type": "markdown",
   "id": "b8176d6b-c277-4ff2-8583-252b69b595c3",
   "metadata": {},
   "source": [
    "Teknik data preprocessing pertama yaitu Binarisation. Tujuan utama dari teknik ini adalah untuk menghasilkan suatu data yang terdiri dari dua (2) nilai numerik saja yaitu 0 dan 1."
   ]
  },
  {
   "cell_type": "code",
   "execution_count": 23,
   "id": "ec2beda6-4851-4e24-a721-a3e1c79e10e9",
   "metadata": {},
   "outputs": [
    {
     "data": {
      "text/plain": [
       "array([[ 2.1, -1.9,  5.5],\n",
       "       [-1.5,  2.4,  3.5],\n",
       "       [ 0.5, -7.9,  5.6],\n",
       "       [ 5.9,  2.3, -5.8]])"
      ]
     },
     "execution_count": 23,
     "metadata": {},
     "output_type": "execute_result"
    }
   ],
   "source": [
    "sample_data"
   ]
  },
  {
   "cell_type": "markdown",
   "id": "f0fa4a39-82d6-4943-b2b2-b82db93c4474",
   "metadata": {},
   "source": [
    "Misalnya pada kasus ini, dari dataset yang telah dibuat, terdapat kebutuhan untuk mengkonversi setiap nilai numerik yang lebih besar dari `0.5 menjadi 1` dan `sisanya dikonvesi menjadi 0`."
   ]
  },
  {
   "cell_type": "code",
   "execution_count": 24,
   "id": "0e8c081f-45b3-4694-bbe4-03a906750f07",
   "metadata": {},
   "outputs": [
    {
     "data": {
      "text/plain": [
       "array([[1., 0., 1.],\n",
       "       [0., 1., 1.],\n",
       "       [0., 0., 1.],\n",
       "       [1., 1., 0.]])"
      ]
     },
     "execution_count": 24,
     "metadata": {},
     "output_type": "execute_result"
    }
   ],
   "source": [
    "preprocessor = preprocessing.Binarizer(threshold=0.5)\n",
    "binarised_data = preprocessor.transform(sample_data)\n",
    "binarised_data"
   ]
  },
  {
   "cell_type": "markdown",
   "id": "d1a1626d-8fbb-4c3c-89d2-76d5f5718e3f",
   "metadata": {},
   "source": [
    "## Scaling"
   ]
  },
  {
   "cell_type": "markdown",
   "id": "c9a51c59-17c3-4e6d-bfa9-2d620c4c0786",
   "metadata": {},
   "source": [
    "Teknik data preprocessing yang kedua yaitu Scaling. Tujuan utama dari teknik ini adalah untuk menghasilkan angka numerik dari rentang angka tertentu."
   ]
  },
  {
   "cell_type": "code",
   "execution_count": 25,
   "id": "e7446e7f-516a-4ce7-85a5-7bceafd4568f",
   "metadata": {},
   "outputs": [
    {
     "data": {
      "text/plain": [
       "array([[ 2.1, -1.9,  5.5],\n",
       "       [-1.5,  2.4,  3.5],\n",
       "       [ 0.5, -7.9,  5.6],\n",
       "       [ 5.9,  2.3, -5.8]])"
      ]
     },
     "execution_count": 25,
     "metadata": {},
     "output_type": "execute_result"
    }
   ],
   "source": [
    "sample_data"
   ]
  },
  {
   "cell_type": "markdown",
   "id": "2988a796-a32c-4e07-9ee4-bf91dec0f83d",
   "metadata": {},
   "source": [
    "Misalnya pada kasus ini, dari dataset yang telah dibuat, terdapat kebutuhan untuk mengkonversi setiap nilai numerik yang terdapat pada sample_data menjadi rentang dari 0 sampai dengan 1."
   ]
  },
  {
   "cell_type": "code",
   "execution_count": 26,
   "id": "bada809e-ee40-409f-9242-7595bf80584f",
   "metadata": {},
   "outputs": [
    {
     "data": {
      "text/plain": [
       "array([[0.48648649, 0.58252427, 0.99122807],\n",
       "       [0.        , 1.        , 0.81578947],\n",
       "       [0.27027027, 0.        , 1.        ],\n",
       "       [1.        , 0.99029126, 0.        ]])"
      ]
     },
     "execution_count": 26,
     "metadata": {},
     "output_type": "execute_result"
    }
   ],
   "source": [
    "preprocessor = preprocessing.MinMaxScaler(feature_range=(0, 1))\n",
    "preprocessor.fit(sample_data)\n",
    "scaled_data = preprocessor.transform(sample_data)\n",
    "scaled_data"
   ]
  },
  {
   "cell_type": "markdown",
   "id": "484ff104-11cc-4cb8-8a05-d0dddec408fb",
   "metadata": {},
   "source": [
    "Proses fitting dan transform pada scikit learn dapat disatukan menggunakan method `fit_transform`."
   ]
  },
  {
   "cell_type": "code",
   "execution_count": 27,
   "id": "7f1e3cc2-dbf7-4aa1-a45a-9eea1dba0515",
   "metadata": {},
   "outputs": [
    {
     "data": {
      "text/plain": [
       "array([[0.48648649, 0.58252427, 0.99122807],\n",
       "       [0.        , 1.        , 0.81578947],\n",
       "       [0.27027027, 0.        , 1.        ],\n",
       "       [1.        , 0.99029126, 0.        ]])"
      ]
     },
     "execution_count": 27,
     "metadata": {},
     "output_type": "execute_result"
    }
   ],
   "source": [
    "scaled_data = preprocessor.fit_transform(sample_data)\n",
    "scaled_data"
   ]
  },
  {
   "cell_type": "markdown",
   "id": "cfab878d-e8f5-4702-b0dc-67079636dc4f",
   "metadata": {},
   "source": [
    "## Normalisation"
   ]
  },
  {
   "cell_type": "markdown",
   "id": "34ec6d2f-25d5-430d-bee0-9bd5a6cbf5f2",
   "metadata": {},
   "source": [
    "Tujuan utama dari teknik ini adalah untuk melakukan normalisasi pada data numerik yang terdapat pada sample_data."
   ]
  },
  {
   "cell_type": "markdown",
   "id": "54a30a7e-6f56-4d99-a894-f04158bd4c9e",
   "metadata": {},
   "source": [
    "### L1 Normalisation : Least Absolute Deviations"
   ]
  },
  {
   "cell_type": "code",
   "execution_count": 28,
   "id": "47f562fa-5bef-4ec4-807b-d630963bc6c0",
   "metadata": {},
   "outputs": [
    {
     "data": {
      "text/plain": [
       "array([[ 2.1, -1.9,  5.5],\n",
       "       [-1.5,  2.4,  3.5],\n",
       "       [ 0.5, -7.9,  5.6],\n",
       "       [ 5.9,  2.3, -5.8]])"
      ]
     },
     "execution_count": 28,
     "metadata": {},
     "output_type": "execute_result"
    }
   ],
   "source": [
    "sample_data"
   ]
  },
  {
   "cell_type": "code",
   "execution_count": 30,
   "id": "b86671e7-665f-4798-b068-51858fc192a4",
   "metadata": {},
   "outputs": [
    {
     "data": {
      "text/plain": [
       "array([[ 0.22105263, -0.2       ,  0.57894737],\n",
       "       [-0.2027027 ,  0.32432432,  0.47297297],\n",
       "       [ 0.03571429, -0.56428571,  0.4       ],\n",
       "       [ 0.42142857,  0.16428571, -0.41428571]])"
      ]
     },
     "execution_count": 30,
     "metadata": {},
     "output_type": "execute_result"
    }
   ],
   "source": [
    "l1_normalised_data = preprocessing.normalize(sample_data, norm='l1')\n",
    "l1_normalised_data"
   ]
  },
  {
   "cell_type": "markdown",
   "id": "cc095ba4-ee04-4105-955c-87677af24b3c",
   "metadata": {},
   "source": [
    "### L2 Normalisation : Least Squares"
   ]
  },
  {
   "cell_type": "code",
   "execution_count": 31,
   "id": "2dffdd08-3aed-4c76-89fc-894c075e4ddb",
   "metadata": {},
   "outputs": [
    {
     "data": {
      "text/plain": [
       "array([[ 2.1, -1.9,  5.5],\n",
       "       [-1.5,  2.4,  3.5],\n",
       "       [ 0.5, -7.9,  5.6],\n",
       "       [ 5.9,  2.3, -5.8]])"
      ]
     },
     "execution_count": 31,
     "metadata": {},
     "output_type": "execute_result"
    }
   ],
   "source": [
    "sample_data"
   ]
  },
  {
   "cell_type": "code",
   "execution_count": 32,
   "id": "36fe7f1b-a50f-4554-ad39-ed19007d916b",
   "metadata": {},
   "outputs": [
    {
     "data": {
      "text/plain": [
       "array([[ 0.33946114, -0.30713151,  0.88906489],\n",
       "       [-0.33325106,  0.53320169,  0.7775858 ],\n",
       "       [ 0.05156558, -0.81473612,  0.57753446],\n",
       "       [ 0.68706914,  0.26784051, -0.6754239 ]])"
      ]
     },
     "execution_count": 32,
     "metadata": {},
     "output_type": "execute_result"
    }
   ],
   "source": [
    "l2_normalised_data = preprocessing.normalize(sample_data, norm='l2')\n",
    "l2_normalised_data"
   ]
  }
 ],
 "metadata": {
  "kernelspec": {
   "display_name": "Python 3 (ipykernel)",
   "language": "python",
   "name": "python3"
  },
  "language_info": {
   "codemirror_mode": {
    "name": "ipython",
    "version": 3
   },
   "file_extension": ".py",
   "mimetype": "text/x-python",
   "name": "python",
   "nbconvert_exporter": "python",
   "pygments_lexer": "ipython3",
   "version": "3.10.13"
  }
 },
 "nbformat": 4,
 "nbformat_minor": 5
}
