{
 "cells": [
  {
   "cell_type": "markdown",
   "id": "e5a8e00a-d764-4bb7-ba1b-a5edce12b993",
   "metadata": {},
   "source": [
    "# Simple Linear Regression"
   ]
  },
  {
   "cell_type": "markdown",
   "id": "7e9155ab-63df-4a3b-9fe9-af29e512eecf",
   "metadata": {},
   "source": [
    "1972022 - Sthefan Marley Tanza"
   ]
  },
  {
   "cell_type": "markdown",
   "id": "b227ddb3-62b6-4d87-b947-315c11be188a",
   "metadata": {},
   "source": [
    "### Step 1 - Membuat dataset"
   ]
  },
  {
   "cell_type": "markdown",
   "id": "eb3fd427-fc8a-4724-9f6b-e058829c97ae",
   "metadata": {},
   "source": [
    "Pada variabel pizza terdapat dua buah list yaitu diameter dan harga, kedua key tersebut terasosiasi satu sama lain, lalu dimuat kedalam objek pizza_df dalam bentuk data frame menggunakan pandas."
   ]
  },
  {
   "cell_type": "code",
   "execution_count": 1,
   "id": "78014cf3-ba50-434c-ab2e-c7484629cf46",
   "metadata": {},
   "outputs": [
    {
     "data": {
      "text/html": [
       "<div>\n",
       "<style scoped>\n",
       "    .dataframe tbody tr th:only-of-type {\n",
       "        vertical-align: middle;\n",
       "    }\n",
       "\n",
       "    .dataframe tbody tr th {\n",
       "        vertical-align: top;\n",
       "    }\n",
       "\n",
       "    .dataframe thead th {\n",
       "        text-align: right;\n",
       "    }\n",
       "</style>\n",
       "<table border=\"1\" class=\"dataframe\">\n",
       "  <thead>\n",
       "    <tr style=\"text-align: right;\">\n",
       "      <th></th>\n",
       "      <th>diameter</th>\n",
       "      <th>harga</th>\n",
       "    </tr>\n",
       "  </thead>\n",
       "  <tbody>\n",
       "    <tr>\n",
       "      <th>0</th>\n",
       "      <td>6</td>\n",
       "      <td>7.0</td>\n",
       "    </tr>\n",
       "    <tr>\n",
       "      <th>1</th>\n",
       "      <td>8</td>\n",
       "      <td>9.0</td>\n",
       "    </tr>\n",
       "    <tr>\n",
       "      <th>2</th>\n",
       "      <td>10</td>\n",
       "      <td>13.0</td>\n",
       "    </tr>\n",
       "    <tr>\n",
       "      <th>3</th>\n",
       "      <td>14</td>\n",
       "      <td>17.5</td>\n",
       "    </tr>\n",
       "    <tr>\n",
       "      <th>4</th>\n",
       "      <td>18</td>\n",
       "      <td>18.0</td>\n",
       "    </tr>\n",
       "  </tbody>\n",
       "</table>\n",
       "</div>"
      ],
      "text/plain": [
       "   diameter  harga\n",
       "0         6    7.0\n",
       "1         8    9.0\n",
       "2        10   13.0\n",
       "3        14   17.5\n",
       "4        18   18.0"
      ]
     },
     "execution_count": 1,
     "metadata": {},
     "output_type": "execute_result"
    }
   ],
   "source": [
    "import pandas as pd\n",
    "\n",
    "pizza = {\n",
    "    'diameter' : [6,8,10,14,18],\n",
    "    'harga' : [7,9,13,17.5,18]\n",
    "}\n",
    "pizza_df = pd.DataFrame(pizza)\n",
    "pizza_df"
   ]
  },
  {
   "cell_type": "markdown",
   "id": "f3e5775e-165b-4527-8861-c4b8369b1937",
   "metadata": {},
   "source": [
    "### Step 2 - Visualisasi data"
   ]
  },
  {
   "cell_type": "markdown",
   "id": "0f23dc85-dced-4487-aa08-106dc3a0c0d1",
   "metadata": {},
   "source": [
    "Visualisasi data menggunakan matplotlib.pyplot. Pada pembuatan plot terdapat 3 buah parameter yaitu kind, x, dan y. Parameter kind artinya adalah jenis plot, saat ini kita membuat scatter plot, lalu x dan y merupakan sumbu nya.\n",
    "\n",
    "xlabel dan ylabel digunakan untuk memberikan label pada sumbu.\n",
    "xlim dan ylim digunakan untuk membuat range dari sumbu, misalnya xlim(0,25) maka sumbu x memiliki range dari 0 sampai 25."
   ]
  },
  {
   "cell_type": "code",
   "execution_count": 2,
   "id": "2a03da1d-3ba9-4c6c-a1eb-85e608d20681",
   "metadata": {},
   "outputs": [
    {
     "data": {
      "image/png": "[encoded data removed]",
      "text/plain": [
       "<Figure size 640x480 with 1 Axes>"
      ]
     },
     "metadata": {},
     "output_type": "display_data"
    }
   ],
   "source": [
    "import matplotlib.pyplot as plt\n",
    "\n",
    "pizza_df.plot(kind = 'scatter', x = 'diameter', y = 'harga')\n",
    "\n",
    "plt.title(\"Perbandingan diameter dan harga pizza\")\n",
    "plt.xlabel(\"Diameter (inch)\")\n",
    "plt.ylabel(\"Harga (dollar)\")\n",
    "plt.xlim(0,25)\n",
    "plt.ylim(0,25)\n",
    "plt.grid(True)\n",
    "plt.show()"
   ]
  },
  {
   "cell_type": "markdown",
   "id": "a666a68e-e604-43c2-8a6e-cf8a211cc2c1",
   "metadata": {},
   "source": [
    "### Step 3 - Penyesuaian dataset"
   ]
  },
  {
   "cell_type": "markdown",
   "id": "9e9160c0-98e4-43aa-9e98-c5ca40c86d6b",
   "metadata": {},
   "source": [
    "Pada step ini kita akan membagi feature dan target kedalam dua variabel terpisah. Saat ini kita akan mencoba untuk memprediksi harga pizza jika diketahui diameternya.\n",
    "\n",
    "Pertama, kita akan melakukan konversi struktur data dari yang awalnya menggunakan pandas dataframe menjadi numpy array."
   ]
  },
  {
   "cell_type": "code",
   "execution_count": 6,
   "id": "a0537bc2-a3d1-448c-9668-ce98660560f6",
   "metadata": {},
   "outputs": [
    {
     "name": "stdout",
     "output_type": "stream",
     "text": [
      "X: [ 6  8 10 14 18]\n",
      "y: [ 7.   9.  13.  17.5 18. ]\n"
     ]
    }
   ],
   "source": [
    "import numpy as np\n",
    "\n",
    "X = np.array(pizza_df['diameter']) #feature\n",
    "y = np.array(pizza_df['harga']) #target\n",
    "\n",
    "print(f'X: {X}')\n",
    "print(f'y: {y}')"
   ]
  },
  {
   "cell_type": "markdown",
   "id": "37c12b1a-43d2-4fd8-b396-64bd72833623",
   "metadata": {},
   "source": [
    "Seperti yang dapat dilihat pada kode diatas, variabel X yang digunakan untuk menampung nilai features hanya terdiri dari 1 dimensi saja. Sedangkan, model machine learning yang ada pada scikit learn membutuhkan sekumpulan nilai features yang ditampung dalam array 2 dimensi. Maka sekarang kita akan melakukan reshape terhadap variabel X."
   ]
  },
  {
   "cell_type": "code",
   "execution_count": 9,
   "id": "5c1a4ab7-6070-4bec-aa06-c011747f0695",
   "metadata": {},
   "outputs": [
    {
     "data": {
      "text/plain": [
       "(5, 1)"
      ]
     },
     "execution_count": 9,
     "metadata": {},
     "output_type": "execute_result"
    }
   ],
   "source": [
    "X = X.reshape(-1,1)\n",
    "X.shape"
   ]
  },
  {
   "cell_type": "markdown",
   "id": "5c9601fd-8f4e-4354-9013-b31ccc497b32",
   "metadata": {},
   "source": [
    "Sekarang variabel X menampung array 2 dimensi."
   ]
  },
  {
   "cell_type": "code",
   "execution_count": 10,
   "id": "1fd097b8-6918-4af6-9b3a-aadb14356a04",
   "metadata": {},
   "outputs": [
    {
     "data": {
      "text/plain": [
       "array([[ 6],\n",
       "       [ 8],\n",
       "       [10],\n",
       "       [14],\n",
       "       [18]])"
      ]
     },
     "execution_count": 10,
     "metadata": {},
     "output_type": "execute_result"
    }
   ],
   "source": [
    "X"
   ]
  },
  {
   "cell_type": "markdown",
   "id": "f751030c-ac68-4a33-bd73-977bd56da426",
   "metadata": {},
   "source": [
    "### Step 4 - Melakukan training model"
   ]
  },
  {
   "cell_type": "markdown",
   "id": "24dbab9d-7b9b-4a17-82c5-1cfac009efa6",
   "metadata": {},
   "source": [
    "Pada tahap ini, kita akan melakukan training model dengan metode Linear Regression. Proses training ini dapat dilakukan dengan menggunakan method fit(). Method fit menerima 2 buah parameter yaitu features dan target."
   ]
  },
  {
   "cell_type": "code",
   "execution_count": 11,
   "id": "5a24e87d-962f-434c-8bb4-6ee05e673bc5",
   "metadata": {
    "scrolled": true
   },
   "outputs": [
    {
     "data": {
      "text/html": [
       "<style>#sk-container-id-1 {color: black;}#sk-container-id-1 pre{padding: 0;}#sk-container-id-1 div.sk-toggleable {background-color: white;}#sk-container-id-1 label.sk-toggleable__label {cursor: pointer;display: block;width: 100%;margin-bottom: 0;padding: 0.3em;box-sizing: border-box;text-align: center;}#sk-container-id-1 label.sk-toggleable__label-arrow:before {content: \"▸\";float: left;margin-right: 0.25em;color: #696969;}#sk-container-id-1 label.sk-toggleable__label-arrow:hover:before {color: black;}#sk-container-id-1 div.sk-estimator:hover label.sk-toggleable__label-arrow:before {color: black;}#sk-container-id-1 div.sk-toggleable__content {max-height: 0;max-width: 0;overflow: hidden;text-align: left;background-color: #f0f8ff;}#sk-container-id-1 div.sk-toggleable__content pre {margin: 0.2em;color: black;border-radius: 0.25em;background-color: #f0f8ff;}#sk-container-id-1 input.sk-toggleable__control:checked~div.sk-toggleable__content {max-height: 200px;max-width: 100%;overflow: auto;}#sk-container-id-1 input.sk-toggleable__control:checked~label.sk-toggleable__label-arrow:before {content: \"▾\";}#sk-container-id-1 div.sk-estimator input.sk-toggleable__control:checked~label.sk-toggleable__label {background-color: #d4ebff;}#sk-container-id-1 div.sk-label input.sk-toggleable__control:checked~label.sk-toggleable__label {background-color: #d4ebff;}#sk-container-id-1 input.sk-hidden--visually {border: 0;clip: rect(1px 1px 1px 1px);clip: rect(1px, 1px, 1px, 1px);height: 1px;margin: -1px;overflow: hidden;padding: 0;position: absolute;width: 1px;}#sk-container-id-1 div.sk-estimator {font-family: monospace;background-color: #f0f8ff;border: 1px dotted black;border-radius: 0.25em;box-sizing: border-box;margin-bottom: 0.5em;}#sk-container-id-1 div.sk-estimator:hover {background-color: #d4ebff;}#sk-container-id-1 div.sk-parallel-item::after {content: \"\";width: 100%;border-bottom: 1px solid gray;flex-grow: 1;}#sk-container-id-1 div.sk-label:hover label.sk-toggleable__label {background-color: #d4ebff;}#sk-container-id-1 div.sk-serial::before {content: \"\";position: absolute;border-left: 1px solid gray;box-sizing: border-box;top: 0;bottom: 0;left: 50%;z-index: 0;}#sk-container-id-1 div.sk-serial {display: flex;flex-direction: column;align-items: center;background-color: white;padding-right: 0.2em;padding-left: 0.2em;position: relative;}#sk-container-id-1 div.sk-item {position: relative;z-index: 1;}#sk-container-id-1 div.sk-parallel {display: flex;align-items: stretch;justify-content: center;background-color: white;position: relative;}#sk-container-id-1 div.sk-item::before, #sk-container-id-1 div.sk-parallel-item::before {content: \"\";position: absolute;border-left: 1px solid gray;box-sizing: border-box;top: 0;bottom: 0;left: 50%;z-index: -1;}#sk-container-id-1 div.sk-parallel-item {display: flex;flex-direction: column;z-index: 1;position: relative;background-color: white;}#sk-container-id-1 div.sk-parallel-item:first-child::after {align-self: flex-end;width: 50%;}#sk-container-id-1 div.sk-parallel-item:last-child::after {align-self: flex-start;width: 50%;}#sk-container-id-1 div.sk-parallel-item:only-child::after {width: 0;}#sk-container-id-1 div.sk-dashed-wrapped {border: 1px dashed gray;margin: 0 0.4em 0.5em 0.4em;box-sizing: border-box;padding-bottom: 0.4em;background-color: white;}#sk-container-id-1 div.sk-label label {font-family: monospace;font-weight: bold;display: inline-block;line-height: 1.2em;}#sk-container-id-1 div.sk-label-container {text-align: center;}#sk-container-id-1 div.sk-container {/* jupyter's `normalize.less` sets `[hidden] { display: none; }` but bootstrap.min.css set `[hidden] { display: none !important; }` so we also need the `!important` here to be able to override the default hidden behavior on the sphinx rendered scikit-learn.org. See: https://github.com/scikit-learn/scikit-learn/issues/21755 */display: inline-block !important;position: relative;}#sk-container-id-1 div.sk-text-repr-fallback {display: none;}</style><div id=\"sk-container-id-1\" class=\"sk-top-container\"><div class=\"sk-text-repr-fallback\"><pre>LinearRegression()</pre><b>In a Jupyter environment, please rerun this cell to show the HTML representation or trust the notebook. <br />On GitHub, the HTML representation is unable to render, please try loading this page with nbviewer.org.</b></div><div class=\"sk-container\" hidden><div class=\"sk-item\"><div class=\"sk-estimator sk-toggleable\"><input class=\"sk-toggleable__control sk-hidden--visually\" id=\"sk-estimator-id-1\" type=\"checkbox\" checked><label for=\"sk-estimator-id-1\" class=\"sk-toggleable__label sk-toggleable__label-arrow\">LinearRegression</label><div class=\"sk-toggleable__content\"><pre>LinearRegression()</pre></div></div></div></div></div>"
      ],
      "text/plain": [
       "LinearRegression()"
      ]
     },
     "execution_count": 11,
     "metadata": {},
     "output_type": "execute_result"
    }
   ],
   "source": [
    "from sklearn.linear_model import LinearRegression\n",
    "\n",
    "model = LinearRegression()\n",
    "model.fit(X, y)"
   ]
  },
  {
   "cell_type": "markdown",
   "id": "a2fa9c6b-6b6a-4b9a-aa2d-b7c2a1eadd94",
   "metadata": {},
   "source": [
    "Pada tahap ini model yang tadi dibuat sudah berubah statusnya menjadi trained model."
   ]
  },
  {
   "cell_type": "markdown",
   "id": "44a9246a-78b2-447a-adeb-35fb068801dd",
   "metadata": {},
   "source": [
    "### Step 5 - Visualisasi model"
   ]
  },
  {
   "cell_type": "markdown",
   "id": "cea1b3ba-4c13-4549-9fbb-13041fc37d48",
   "metadata": {},
   "source": [
    "Linear model yang dihasilkan akan berupa 2 garis lurus, untuk dapat memvisualisasikan persamaan garis ini pertama kita akan mempersiapkan dua buah nilai yaitu:\n",
    "- Nilai 0 dan 25 pada X, nilai tersebut ditentukan karena kita akan melakukan plotting pada area ukuran 25x25.\n",
    "\n",
    "Kedua nilai tersebut akan dibentuk sebagai numpy array. Karena array ini akan digunakan sebagai feature perlu dilakukan reshape agar menghasilkan array 2 dimensi."
   ]
  },
  {
   "cell_type": "code",
   "execution_count": 13,
   "id": "c00c0fe0-f013-425f-88fe-d690a7da7beb",
   "metadata": {},
   "outputs": [],
   "source": [
    "X_vis = np.array([0, 25]).reshape(-1, 1)\n",
    "y_vis = model.predict(X_vis)"
   ]
  },
  {
   "cell_type": "code",
   "execution_count": 15,
   "id": "84795815-fe8a-4cab-8803-dbd9c8c87614",
   "metadata": {},
   "outputs": [
    {
     "data": {
      "image/png": "[encoded data removed]",
      "text/plain": [
       "<Figure size 640x480 with 1 Axes>"
      ]
     },
     "metadata": {},
     "output_type": "display_data"
    }
   ],
   "source": [
    "plt.scatter(X, y) # ini adalah plot yang berwarna biru\n",
    "plt.plot(X_vis, y_vis, '-r') # ini adalah plot yang berbentuk garis merah\n",
    "\n",
    "plt.title('Perbandingan Diameter dan Harga Pizza')\n",
    "plt.xlabel('Diameter (inch)')\n",
    "plt.ylabel('Harga (dollar)')\n",
    "plt.xlim(0, 25)\n",
    "plt.ylim(0, 25)\n",
    "plt.grid(True)\n",
    "plt.show()"
   ]
  },
  {
   "cell_type": "markdown",
   "id": "669cb7e1-fa76-4415-84d1-6b804ef5be85",
   "metadata": {},
   "source": [
    "Garis merah yang terbentuk pada plot diatas memiliki formula sebagai berikut:\n",
    "Formula Linear Regression: \n",
    "\n",
    "$\n",
    "y = \\alpha + \\beta x\n",
    "$\n",
    "\n",
    "- $y$: response variable / target\n",
    "- $x$: explanatory variable / features\n",
    "- $\\alpha$: intercept / titik pada sumbu y dimana garis linear yang terbentuk menabrak sebuah titik\n",
    "- $\\beta$: slope / tingkat kemiringan dari garis linear yang terbentuk"
   ]
  },
  {
   "cell_type": "code",
   "execution_count": 16,
   "id": "57f2e7cd-c7d0-4cdd-9c22-b48cf53ba94a",
   "metadata": {},
   "outputs": [
    {
     "name": "stdout",
     "output_type": "stream",
     "text": [
      "intercept: 1.965517241379315\n",
      "slope: [0.9762931]\n"
     ]
    }
   ],
   "source": [
    "print(f'intercept: {model.intercept_}')\n",
    "print(f'slope: {model.coef_}')"
   ]
  },
  {
   "cell_type": "markdown",
   "id": "0ab476c6-106a-4af4-847d-ff5147a7a058",
   "metadata": {},
   "source": [
    "### Step 6 - Mencari nilai slope"
   ]
  },
  {
   "cell_type": "markdown",
   "id": "9e8ab7d2-bfae-4591-9d9f-83b24c9b7d1f",
   "metadata": {},
   "source": [
    "Nilai slope pada nilai linear regression bisa diperoleh dengan memanfaatkan formula berikut:\n",
    "$$\\beta = \\frac{cov(x, y)}{var(x)}$$"
   ]
  },
  {
   "cell_type": "code",
   "execution_count": 17,
   "id": "19fb28f2-80a4-49a8-83de-cf623d3666a7",
   "metadata": {},
   "outputs": [
    {
     "name": "stdout",
     "output_type": "stream",
     "text": [
      "X:\n",
      "[[ 6]\n",
      " [ 8]\n",
      " [10]\n",
      " [14]\n",
      " [18]]\n",
      "\n",
      "X flatten: [ 6  8 10 14 18]\n",
      "\n",
      "y: [ 7.   9.  13.  17.5 18. ]\n"
     ]
    }
   ],
   "source": [
    "print(f'X:\\n{X}\\n')\n",
    "print(f'X flatten: {X.flatten()}\\n')\n",
    "print(f'y: {y}')"
   ]
  },
  {
   "cell_type": "markdown",
   "id": "459b3690-7b0a-42f8-8b3c-e38f010c5df1",
   "metadata": {},
   "source": [
    "Method flatten digunakan untuk mengembalikan bentuk dari variabel X."
   ]
  },
  {
   "cell_type": "markdown",
   "id": "726b6be9-255b-450e-b8cc-e6227236fd42",
   "metadata": {},
   "source": [
    "#### Variance"
   ]
  },
  {
   "cell_type": "markdown",
   "id": "8b5f4089-f389-498b-b8d8-07c05b982535",
   "metadata": {},
   "source": [
    "Nilai variance dapat dihitung dengan menggunakan np.var. Pada np.var dibutuhkan 2 buah parameter yaitu X yang sudah di flatten, dan ddof."
   ]
  },
  {
   "cell_type": "code",
   "execution_count": 18,
   "id": "23f2146e-1c4d-4f64-9a8b-e053d0737d30",
   "metadata": {},
   "outputs": [
    {
     "name": "stdout",
     "output_type": "stream",
     "text": [
      "variance: 23.2\n"
     ]
    }
   ],
   "source": [
    "variance_x = np.var(X.flatten(), ddof=1)\n",
    "\n",
    "print(f'variance: {variance_x}')"
   ]
  },
  {
   "cell_type": "markdown",
   "id": "8f68f9a7-e2e5-432d-9ca9-408afa4f1704",
   "metadata": {},
   "source": [
    "#### Covariance"
   ]
  },
  {
   "cell_type": "markdown",
   "id": "b6c8f0a3-dc98-42b5-912c-b4b436121280",
   "metadata": {},
   "source": [
    "Nilai covariance dapat dihitung dengan menggunakan np.cov"
   ]
  },
  {
   "cell_type": "code",
   "execution_count": 19,
   "id": "64db266c-ac77-4145-a1ab-c30ee0c54d3b",
   "metadata": {},
   "outputs": [
    {
     "data": {
      "text/plain": [
       "array([[23.2 , 22.65],\n",
       "       [22.65, 24.3 ]])"
      ]
     },
     "execution_count": 19,
     "metadata": {},
     "output_type": "execute_result"
    }
   ],
   "source": [
    "np.cov(X.flatten(), y)"
   ]
  },
  {
   "cell_type": "markdown",
   "id": "cb494152-a7f5-4f72-9777-e6ef2552fa57",
   "metadata": {},
   "source": [
    "Mengambil nilai 22.65 dengan menggunakan [0][1]"
   ]
  },
  {
   "cell_type": "code",
   "execution_count": 20,
   "id": "e0327382-936c-4872-81fc-59292c1c3536",
   "metadata": {},
   "outputs": [
    {
     "name": "stdout",
     "output_type": "stream",
     "text": [
      "covariance: 22.650000000000002\n"
     ]
    }
   ],
   "source": [
    "covariance_xy = np.cov(X.flatten(), y)[0][1]\n",
    "\n",
    "print(f'covariance: {covariance_xy}')"
   ]
  },
  {
   "cell_type": "markdown",
   "id": "4d125a2f-f85a-4bfd-9987-2d2eba45cc96",
   "metadata": {},
   "source": [
    "#### Slope"
   ]
  },
  {
   "cell_type": "code",
   "execution_count": 21,
   "id": "5e50afc6-dfab-4387-a924-9a7484a9fc41",
   "metadata": {},
   "outputs": [
    {
     "name": "stdout",
     "output_type": "stream",
     "text": [
      "slope: 0.976293103448276\n"
     ]
    }
   ],
   "source": [
    "slope = covariance_xy / variance_x\n",
    "\n",
    "print(f'slope: {slope}')"
   ]
  },
  {
   "cell_type": "markdown",
   "id": "f78862fe-bdb4-43d3-a4b9-2dbbdbf81d68",
   "metadata": {},
   "source": [
    "### Step 7 - Mencari nilai intercept"
   ]
  },
  {
   "cell_type": "code",
   "execution_count": 22,
   "id": "08262709-ad28-46fd-9cee-8e7beaf91d21",
   "metadata": {},
   "outputs": [
    {
     "name": "stdout",
     "output_type": "stream",
     "text": [
      "intercept: 1.9655172413793096\n"
     ]
    }
   ],
   "source": [
    "intercept = np.mean(y) - slope * np.mean(X)\n",
    "\n",
    "print(f'intercept: {intercept}')"
   ]
  },
  {
   "cell_type": "markdown",
   "id": "39e71172-0eae-4be1-b06c-d525398eb31c",
   "metadata": {},
   "source": [
    "### Step 8 - Memprediksi harga pizza"
   ]
  },
  {
   "cell_type": "markdown",
   "id": "f54d8b9e-1a9c-4733-9f1d-5ec22e3972b2",
   "metadata": {},
   "source": [
    "Memprediksi harga pizza berdasarkan 3 nilai diameter"
   ]
  },
  {
   "cell_type": "code",
   "execution_count": 23,
   "id": "1dd08cf7-c6e9-412f-a17d-f50ba95ede4c",
   "metadata": {},
   "outputs": [
    {
     "data": {
      "text/plain": [
       "array([[12],\n",
       "       [20],\n",
       "       [23]])"
      ]
     },
     "execution_count": 23,
     "metadata": {},
     "output_type": "execute_result"
    }
   ],
   "source": [
    "diameter_pizza = np.array([12, 20, 23]).reshape(-1, 1)\n",
    "diameter_pizza"
   ]
  },
  {
   "cell_type": "code",
   "execution_count": 24,
   "id": "7de5a266-d422-402b-8a56-657bf96e7f76",
   "metadata": {},
   "outputs": [
    {
     "data": {
      "text/plain": [
       "array([13.68103448, 21.49137931, 24.42025862])"
      ]
     },
     "execution_count": 24,
     "metadata": {},
     "output_type": "execute_result"
    }
   ],
   "source": [
    "prediksi_harga = model.predict(diameter_pizza)\n",
    "prediksi_harga"
   ]
  },
  {
   "cell_type": "code",
   "execution_count": 25,
   "id": "068474fc-9ee9-4af2-9220-d96391b70751",
   "metadata": {},
   "outputs": [
    {
     "name": "stdout",
     "output_type": "stream",
     "text": [
      "Diameter: [12] predilsi harga: 13.681034482758621\n",
      "Diameter: [20] predilsi harga: 21.491379310344826\n",
      "Diameter: [23] predilsi harga: 24.42025862068965\n"
     ]
    }
   ],
   "source": [
    "for dmtr, hrg in zip(diameter_pizza, prediksi_harga):\n",
    "    print(f'Diameter: {dmtr} predilsi harga: {hrg}')"
   ]
  },
  {
   "cell_type": "markdown",
   "id": "d5b0763b-606c-4ea9-b204-f0897f6e95c4",
   "metadata": {},
   "source": [
    "### Step 9 - Evaluasi simple linear regression model"
   ]
  },
  {
   "cell_type": "markdown",
   "id": "c0a49382-200d-42f3-8974-78f7ead114c2",
   "metadata": {},
   "source": [
    "#### Training dan Testing Dataset"
   ]
  },
  {
   "cell_type": "code",
   "execution_count": 26,
   "id": "7c29974c-76b7-46e2-9b3f-6822e853b043",
   "metadata": {},
   "outputs": [],
   "source": [
    "X_train = np.array([6, 8, 10, 14, 18]).reshape(-1, 1)\n",
    "y_train = np.array([7, 9, 13, 17.5, 18])\n",
    "\n",
    "X_test = np.array([8, 9, 11, 16, 12]).reshape(-1, 1)\n",
    "y_test = np.array([11, 8.5, 15, 18, 11])"
   ]
  },
  {
   "cell_type": "markdown",
   "id": "6c081cd0-1053-4b30-b71b-2e841ab77fe7",
   "metadata": {},
   "source": [
    "#### Training simple linear regression model"
   ]
  },
  {
   "cell_type": "code",
   "execution_count": 27,
   "id": "121bad4c-b37f-498c-9d37-bd4fa15b5401",
   "metadata": {},
   "outputs": [
    {
     "data": {
      "text/html": [
       "<style>#sk-container-id-2 {color: black;}#sk-container-id-2 pre{padding: 0;}#sk-container-id-2 div.sk-toggleable {background-color: white;}#sk-container-id-2 label.sk-toggleable__label {cursor: pointer;display: block;width: 100%;margin-bottom: 0;padding: 0.3em;box-sizing: border-box;text-align: center;}#sk-container-id-2 label.sk-toggleable__label-arrow:before {content: \"▸\";float: left;margin-right: 0.25em;color: #696969;}#sk-container-id-2 label.sk-toggleable__label-arrow:hover:before {color: black;}#sk-container-id-2 div.sk-estimator:hover label.sk-toggleable__label-arrow:before {color: black;}#sk-container-id-2 div.sk-toggleable__content {max-height: 0;max-width: 0;overflow: hidden;text-align: left;background-color: #f0f8ff;}#sk-container-id-2 div.sk-toggleable__content pre {margin: 0.2em;color: black;border-radius: 0.25em;background-color: #f0f8ff;}#sk-container-id-2 input.sk-toggleable__control:checked~div.sk-toggleable__content {max-height: 200px;max-width: 100%;overflow: auto;}#sk-container-id-2 input.sk-toggleable__control:checked~label.sk-toggleable__label-arrow:before {content: \"▾\";}#sk-container-id-2 div.sk-estimator input.sk-toggleable__control:checked~label.sk-toggleable__label {background-color: #d4ebff;}#sk-container-id-2 div.sk-label input.sk-toggleable__control:checked~label.sk-toggleable__label {background-color: #d4ebff;}#sk-container-id-2 input.sk-hidden--visually {border: 0;clip: rect(1px 1px 1px 1px);clip: rect(1px, 1px, 1px, 1px);height: 1px;margin: -1px;overflow: hidden;padding: 0;position: absolute;width: 1px;}#sk-container-id-2 div.sk-estimator {font-family: monospace;background-color: #f0f8ff;border: 1px dotted black;border-radius: 0.25em;box-sizing: border-box;margin-bottom: 0.5em;}#sk-container-id-2 div.sk-estimator:hover {background-color: #d4ebff;}#sk-container-id-2 div.sk-parallel-item::after {content: \"\";width: 100%;border-bottom: 1px solid gray;flex-grow: 1;}#sk-container-id-2 div.sk-label:hover label.sk-toggleable__label {background-color: #d4ebff;}#sk-container-id-2 div.sk-serial::before {content: \"\";position: absolute;border-left: 1px solid gray;box-sizing: border-box;top: 0;bottom: 0;left: 50%;z-index: 0;}#sk-container-id-2 div.sk-serial {display: flex;flex-direction: column;align-items: center;background-color: white;padding-right: 0.2em;padding-left: 0.2em;position: relative;}#sk-container-id-2 div.sk-item {position: relative;z-index: 1;}#sk-container-id-2 div.sk-parallel {display: flex;align-items: stretch;justify-content: center;background-color: white;position: relative;}#sk-container-id-2 div.sk-item::before, #sk-container-id-2 div.sk-parallel-item::before {content: \"\";position: absolute;border-left: 1px solid gray;box-sizing: border-box;top: 0;bottom: 0;left: 50%;z-index: -1;}#sk-container-id-2 div.sk-parallel-item {display: flex;flex-direction: column;z-index: 1;position: relative;background-color: white;}#sk-container-id-2 div.sk-parallel-item:first-child::after {align-self: flex-end;width: 50%;}#sk-container-id-2 div.sk-parallel-item:last-child::after {align-self: flex-start;width: 50%;}#sk-container-id-2 div.sk-parallel-item:only-child::after {width: 0;}#sk-container-id-2 div.sk-dashed-wrapped {border: 1px dashed gray;margin: 0 0.4em 0.5em 0.4em;box-sizing: border-box;padding-bottom: 0.4em;background-color: white;}#sk-container-id-2 div.sk-label label {font-family: monospace;font-weight: bold;display: inline-block;line-height: 1.2em;}#sk-container-id-2 div.sk-label-container {text-align: center;}#sk-container-id-2 div.sk-container {/* jupyter's `normalize.less` sets `[hidden] { display: none; }` but bootstrap.min.css set `[hidden] { display: none !important; }` so we also need the `!important` here to be able to override the default hidden behavior on the sphinx rendered scikit-learn.org. See: https://github.com/scikit-learn/scikit-learn/issues/21755 */display: inline-block !important;position: relative;}#sk-container-id-2 div.sk-text-repr-fallback {display: none;}</style><div id=\"sk-container-id-2\" class=\"sk-top-container\"><div class=\"sk-text-repr-fallback\"><pre>LinearRegression()</pre><b>In a Jupyter environment, please rerun this cell to show the HTML representation or trust the notebook. <br />On GitHub, the HTML representation is unable to render, please try loading this page with nbviewer.org.</b></div><div class=\"sk-container\" hidden><div class=\"sk-item\"><div class=\"sk-estimator sk-toggleable\"><input class=\"sk-toggleable__control sk-hidden--visually\" id=\"sk-estimator-id-2\" type=\"checkbox\" checked><label for=\"sk-estimator-id-2\" class=\"sk-toggleable__label sk-toggleable__label-arrow\">LinearRegression</label><div class=\"sk-toggleable__content\"><pre>LinearRegression()</pre></div></div></div></div></div>"
      ],
      "text/plain": [
       "LinearRegression()"
      ]
     },
     "execution_count": 27,
     "metadata": {},
     "output_type": "execute_result"
    }
   ],
   "source": [
    "model = LinearRegression()\n",
    "model.fit(X_train, y_train)"
   ]
  },
  {
   "cell_type": "markdown",
   "id": "55c906a7-e59f-42a7-a2c9-c4b1ee9f2e1f",
   "metadata": {},
   "source": [
    "#### Evaluasi Linear Regression Model dengan Coefficient of Determination atau R-squared ($R^2$)"
   ]
  },
  {
   "cell_type": "code",
   "execution_count": 28,
   "id": "27bd4334-f8e6-4554-b5e9-e34ccdc10267",
   "metadata": {},
   "outputs": [
    {
     "name": "stdout",
     "output_type": "stream",
     "text": [
      "R-squared: 0.6620052929422553\n"
     ]
    }
   ],
   "source": [
    "from sklearn.metrics import r2_score\n",
    "\n",
    "y_pred = model.predict(X_test)\n",
    "\n",
    "r_squared = r2_score(y_test, y_pred)\n",
    "\n",
    "print(f'R-squared: {r_squared}')"
   ]
  },
  {
   "cell_type": "markdown",
   "id": "d0ab5bf5-ac8b-4d28-8a15-ba7e75f1124b",
   "metadata": {},
   "source": [
    "Semakin nilai R-squared  mendekati 1 semakin baik, semakin mendekati 0 maka semakin buruk."
   ]
  },
  {
   "cell_type": "markdown",
   "id": "026ca7d7-d780-4a7a-96be-e448a6c33055",
   "metadata": {},
   "source": [
    "#### Mencari nilai R-squared($R^2)$"
   ]
  },
  {
   "cell_type": "markdown",
   "id": "658d282a-2e99-4c39-9a95-8e25ec84693c",
   "metadata": {},
   "source": [
    "$$R^{2} = 1 - \\frac{SS_{res}}{SS_{tot}}$$\n",
    "$$SS_{res} =  \\sum_{i=1}^{n}(y_i - f(x_i))^2$$\n",
    "$$SS_{tot} =  \\sum_{i=1}^{n}(y_i - \\bar{y})^2$$"
   ]
  },
  {
   "cell_type": "markdown",
   "id": "1b0f4fcd-a21d-4d84-9f46-7cc94223d61c",
   "metadata": {},
   "source": [
    "$SSres$"
   ]
  },
  {
   "cell_type": "code",
   "execution_count": 29,
   "id": "7d0d7b54-f007-4dea-807a-176a4dc426bf",
   "metadata": {},
   "outputs": [
    {
     "name": "stdout",
     "output_type": "stream",
     "text": [
      "ss_res: 19.1980993608799\n"
     ]
    }
   ],
   "source": [
    "ss_res = sum([(y_i - model.predict(x_i.reshape(-1, 1))[0])**2\n",
    "              for x_i, y_i in zip(X_test, y_test)])\n",
    "\n",
    "print(f'ss_res: {ss_res}')"
   ]
  },
  {
   "cell_type": "markdown",
   "id": "a41602cd-29b7-4354-96c5-c63f431ee88f",
   "metadata": {},
   "source": [
    "$SStot$"
   ]
  },
  {
   "cell_type": "code",
   "execution_count": 30,
   "id": "ce95aacc-e1c0-42fa-9954-48b41b2b0aeb",
   "metadata": {},
   "outputs": [
    {
     "name": "stdout",
     "output_type": "stream",
     "text": [
      "ss_tot: 56.8\n"
     ]
    }
   ],
   "source": [
    "mean_y = np.mean(y_test)\n",
    "ss_tot = sum([(y_i - mean_y)**2 for y_i in y_test])\n",
    "\n",
    "print(f'ss_tot: {ss_tot}')"
   ]
  },
  {
   "cell_type": "markdown",
   "id": "240986ed-6e3a-4201-99ca-9970a842ce0d",
   "metadata": {},
   "source": [
    "$R^2$"
   ]
  },
  {
   "cell_type": "code",
   "execution_count": 31,
   "id": "e78fece0-832b-4fe1-8f9d-4f971577f3be",
   "metadata": {},
   "outputs": [
    {
     "name": "stdout",
     "output_type": "stream",
     "text": [
      "R-squared: 0.6620052929422553\n"
     ]
    }
   ],
   "source": [
    "r_squared = 1 - (ss_res / ss_tot)\n",
    "\n",
    "print(f'R-squared: {r_squared}')"
   ]
  }
 ],
 "metadata": {
  "kernelspec": {
   "display_name": "Python 3 (ipykernel)",
   "language": "python",
   "name": "python3"
  },
  "language_info": {
   "codemirror_mode": {
    "name": "ipython",
    "version": 3
   },
   "file_extension": ".py",
   "mimetype": "text/x-python",
   "name": "python",
   "nbconvert_exporter": "python",
   "pygments_lexer": "ipython3",
   "version": "3.10.13"
  }
 },
 "nbformat": 4,
 "nbformat_minor": 5
}
