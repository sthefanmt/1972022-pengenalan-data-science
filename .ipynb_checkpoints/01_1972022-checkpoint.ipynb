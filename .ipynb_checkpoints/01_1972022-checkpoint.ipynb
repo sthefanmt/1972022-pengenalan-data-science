{
 "cells": [
  {
   "cell_type": "markdown",
   "id": "23d75314",
   "metadata": {},
   "source": [
    "# 01 Pengenalan Machine Learning "
   ]
  },
  {
   "cell_type": "markdown",
   "id": "f2c1d543",
   "metadata": {},
   "source": [
    "## Definisi Machine Learning"
   ]
  },
  {
   "cell_type": "markdown",
   "id": "460ed416",
   "metadata": {},
   "source": [
    "\"Machine Learning is a study that gives computer ability to learn without being explicitly programmed\"<br>\n",
    "**-Arthur Samuel**"
   ]
  },
  {
   "cell_type": "markdown",
   "id": "59d03eb8",
   "metadata": {},
   "source": [
    "\"Machine Learning is a program can be said to learn from experience ***E*** with some respect to some class of tasks ***T*** and performance measure ***P***, if its performance at tasks in ***T***, as measured by ***P***, improves with experience ***E***\"<br>\n",
    "**-Tom Mitchell**"
   ]
  },
  {
   "cell_type": "markdown",
   "id": "4582c01e",
   "metadata": {},
   "source": [
    "Machine Learning adalah bidang ilmu yang memampukan suatu program komputer untuk belajar dari sekumpulan data."
   ]
  },
  {
   "cell_type": "markdown",
   "id": "0855f829",
   "metadata": {},
   "source": [
    "## Learning Problem"
   ]
  },
  {
   "cell_type": "markdown",
   "id": "26bfe75f",
   "metadata": {},
   "source": [
    "Learning Problem dapat dibagi menjadi dua, yaitu **Supervised Learning** dan **Unsupervised Learning**."
   ]
  },
  {
   "cell_type": "markdown",
   "id": "46d06b7a",
   "metadata": {},
   "source": [
    "Learning Problem dalam konteks Machine Learning melibatkan suatu dataset (terdiri dari sejumlah *n* data) untuk melakukan prediksi terhadap properties yang tidak diketahui pada dataset lain sejenis. "
   ]
  },
  {
   "cell_type": "markdown",
   "id": "06a2319a",
   "metadata": {},
   "source": [
    "Pada Supervised Learning problem, program memprediksi sebuah nilai output untuk suatu input berdasarkan proses learning dengan memanfaatkan sekumpulan data yang terbagi dalam dua label, yaitu input dan output. Di sini program melakukan learning dari sekumpulan contoh kasus (examples) yang menyertakan jawaban benar."
   ]
  },
  {
   "cell_type": "markdown",
   "id": "a926dc7c",
   "metadata": {},
   "source": [
    "Pada Unsupervised Learning problem, program tidak melakukan learning dari labeled data, melainkan mencoba menemukan pola (patterns) pada data. Di sini program melakukan learning dari sekumpulan contoh kasus (examples) tanpa disertai jawaban benar. "
   ]
  },
  {
   "cell_type": "markdown",
   "id": "476cea6e",
   "metadata": {},
   "source": [
    "## Terminologi Dasar pada Supervised Learning"
   ]
  },
  {
   "cell_type": "markdown",
   "id": "2e8735aa",
   "metadata": {},
   "source": [
    "Output: label, response variable, dependent variable, regressand, criterion variable, measured variable, responding variable, explained variable, outcome variable, experimental variable, dan output variable."
   ]
  },
  {
   "cell_type": "markdown",
   "id": "6a5d7720",
   "metadata": {},
   "source": [
    "Input: features, explanatory variables, predictors, regressors, controlled variables, and exposure variables."
   ]
  },
  {
   "cell_type": "markdown",
   "id": "e333e87a",
   "metadata": {},
   "source": [
    "Training Set: Sekumpulan contoh yang digunakan untuk proses learning (training) pada supervised learning."
   ]
  },
  {
   "cell_type": "markdown",
   "id": "b3ecf2f9",
   "metadata": {},
   "source": [
    "Test Set: Sekumpulan contoh yang digunakan untuk mengukur performa pada supervised learning."
   ]
  },
  {
   "cell_type": "markdown",
   "id": "4bfcf93e",
   "metadata": {},
   "source": [
    "Pada supervised learning, response variable bila dianalogikan sebagai kunci jawaban dan explanatory variables bila dianalogikan sebagai pertanyaannya."
   ]
  },
  {
   "cell_type": "markdown",
   "id": "9ac8e507",
   "metadata": {},
   "source": [
    "## Supervised Machine Learning Tasks"
   ]
  },
  {
   "cell_type": "markdown",
   "id": "1a1e0e06",
   "metadata": {},
   "source": [
    "Secara umum, terdapat dua jenis Supervised Machine Learning Tasks, yaitu Classification dan Regression."
   ]
  },
  {
   "cell_type": "markdown",
   "id": "54118f6c",
   "metadata": {},
   "source": [
    "Classification Tasks menekankan pada proses training (learning) untuk melakukan prediksi nilai discrete (misalnya kategori, class, label) dan sejumlah features."
   ]
  },
  {
   "cell_type": "markdown",
   "id": "341b14df",
   "metadata": {},
   "source": [
    "Regression Tasks menekankan pada proses training (learning) untuk melakukan prediksi nilai continous (floating point) dari sejumlah features."
   ]
  },
  {
   "cell_type": "markdown",
   "id": "9fca9c7e",
   "metadata": {},
   "source": [
    "## Unsupervised Machine Learning Tasks"
   ]
  },
  {
   "cell_type": "markdown",
   "id": "8fcdeb16",
   "metadata": {},
   "source": [
    "Terdapat beberapa Unsupervised Machine Learning Tasks dan saat ini akan berfokus pada dua tasks, yaitu Clustering dan Dimensionality Reduction."
   ]
  },
  {
   "cell_type": "markdown",
   "id": "20d62ef8",
   "metadata": {},
   "source": [
    "Clustering Tasks menekankan pada proses eksplorasi data untuk menentukan kelompok (group) pada data berdasarkan kemiripan (kedekatan) karakteristik."
   ]
  },
  {
   "cell_type": "markdown",
   "id": "25ca8e2f",
   "metadata": {},
   "source": [
    "Dimensionality Reduction Tasks menekankan pada proses eksplorasi data untuk menemukan sejumlah features yang paling berdampak terhadap response variable."
   ]
  }
 ],
 "metadata": {
  "kernelspec": {
   "display_name": "Python 3 (ipykernel)",
   "language": "python",
   "name": "python3"
  },
  "language_info": {
   "codemirror_mode": {
    "name": "ipython",
    "version": 3
   },
   "file_extension": ".py",
   "mimetype": "text/x-python",
   "name": "python",
   "nbconvert_exporter": "python",
   "pygments_lexer": "ipython3",
   "version": "3.11.5"
  }
 },
 "nbformat": 4,
 "nbformat_minor": 5
}
